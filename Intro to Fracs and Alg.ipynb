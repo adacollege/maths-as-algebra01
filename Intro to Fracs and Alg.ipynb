{
 "cells": [
  {
   "cell_type": "markdown",
   "metadata": {
    "slideshow": {
     "slide_type": "slide"
    }
   },
   "source": [
    "# **INTRODUCTION TO FRACTIONS AND ALGEBRA**"
   ]
  },
  {
   "cell_type": "markdown",
   "metadata": {
    "slideshow": {
     "slide_type": "-"
    }
   },
   "source": [
    "## Fractions"
   ]
  },
  {
   "cell_type": "markdown",
   "metadata": {
    "slideshow": {
     "slide_type": "-"
    }
   },
   "source": [
    "## Task 1:"
   ]
  },
  {
   "cell_type": "markdown",
   "metadata": {
    "slideshow": {
     "slide_type": "-"
    }
   },
   "source": [
    "You all have a post-it with a fraction on it. It is equal to fractions on $4$ other post-its. Find all the people in the room with the same fraction!<p> Now simplify your fraction. What do you get?<p>"
   ]
  },
  {
   "cell_type": "markdown",
   "metadata": {
    "slideshow": {
     "slide_type": "slide"
    }
   },
   "source": [
    "## Doing the same thing on both sides"
   ]
  },
  {
   "cell_type": "markdown",
   "metadata": {
    "slideshow": {
     "slide_type": "-"
    }
   },
   "source": [
    "If $$y = \\frac{3}{4}x+1$$ then what can I say about $4y$? What about $4y^{2}-1$ ? <p>How did you come to your conclusion?<p>"
   ]
  },
  {
   "cell_type": "markdown",
   "metadata": {
    "slideshow": {
     "slide_type": "slide"
    }
   },
   "source": [
    "## Task 2:"
   ]
  },
  {
   "cell_type": "markdown",
   "metadata": {
    "slideshow": {
     "slide_type": "-"
    }
   },
   "source": [
    "Take a post-it. Write down **two** expressions in terms of $y$; one can be easy, the other has to be complicated! \n",
    "\n",
    "It will be equal to an expression in terms of the $x$ in $y=\\frac{3}{4}x+1$.\n",
    "\n",
    "Exchange your post it with one of your classmate's. On the back of your new post-it write down the expression in terms of $x$. There is a key point involved in what you have been doing; what do you think it is?"
   ]
  },
  {
   "cell_type": "markdown",
   "metadata": {
    "slideshow": {
     "slide_type": "slide"
    }
   },
   "source": [
    "## Manipulating expressions"
   ]
  },
  {
   "cell_type": "markdown",
   "metadata": {
    "slideshow": {
     "slide_type": "-"
    }
   },
   "source": [
    "If I have the equation $$x + 1 = 2y$$ what steps do I need to get the expression: $$x^{2}+2x-6$$"
   ]
  },
  {
   "cell_type": "markdown",
   "metadata": {
    "slideshow": {
     "slide_type": "fragment"
    }
   },
   "source": [
    "What about if I have $4x^{4}-25=-16$ and want to get $2x^{2}-3=0$ ? Is this possible? Can you think of any other equations I might get? What do you think this means?"
   ]
  },
  {
   "cell_type": "markdown",
   "metadata": {
    "slideshow": {
     "slide_type": "slide"
    }
   },
   "source": [
    "## Task 3: Anything, Something, Nothing\n",
    "\n",
    "\n",
    "In this task you will need to look at each mathematical statement and state whether $x$ can be anything, $x$ can be something(s) (and what it/they is/are), $x$ cannot be anything for the statement to be true.\n",
    "\n",
    "\n",
    "* $\\frac{1}{1+x}=1$<p>\n",
    "* $x^2-3x+5=y$<p>\n",
    "* $x^2+5 = 0$<p>\n",
    "* $(x+4)^{2} = x^{2}$<p>\n",
    "* $ \\frac{1}{x} = 0$<p>\n",
    "* $x(x^{2}+3)=0$<p>\n",
    "* $x^2-3x -3 =0$<p>\n",
    "* $x^{4}-x^{2}=0$<p>\n",
    "* $x^{2}-1= (x+1)(x-1)$<p>\n",
    "* $x^{2}-1= x+1$<p>\n",
    "* $\\frac{5}{x^{2}}=0$<p>\n",
    "* $(x-4)^{2}=x^{2}-8x+16$<p>\n",
    "* $(x+2)^{2} = x^{2}+4x+5$<p>\n",
    "* $x^{2}-9x=8$<p>\n",
    "* $y = x^{3}+7$<p>\n",
    "\n"
   ]
  },
  {
   "cell_type": "markdown",
   "metadata": {
    "slideshow": {
     "slide_type": "slide"
    }
   },
   "source": [
    "## Task 4:"
   ]
  },
  {
   "cell_type": "markdown",
   "metadata": {
    "slideshow": {
     "slide_type": "-"
    }
   },
   "source": [
    "Make up a **quadratic equation**; you could start with a perfect square, like $(x-1)^{2} = 0$. Write down three new equations that have:\n",
    "1. The same solution(s) as your equation.\n",
    "2. Other solutions.\n",
    "3. No solutions."
   ]
  },
  {
   "cell_type": "markdown",
   "metadata": {},
   "source": [
    "How is 1. different to 2. and 3.? Why do you think this is?"
   ]
  },
  {
   "cell_type": "markdown",
   "metadata": {
    "slideshow": {
     "slide_type": "slide"
    }
   },
   "source": [
    "## Changing the subject"
   ]
  },
  {
   "cell_type": "markdown",
   "metadata": {},
   "source": [
    "A formula we can use to convert miles into kilometres is $M = \\frac{5}{8}K$. What if we want to convert kilometres to miles?"
   ]
  },
  {
   "cell_type": "markdown",
   "metadata": {},
   "source": [
    "## Task 5:"
   ]
  },
  {
   "cell_type": "markdown",
   "metadata": {},
   "source": [
    "Think of formula for $v$ in terms of $u$ that has a:\n",
    "1. Cubic term in $u$.\n",
    "2. Square root of $u$.\n",
    "3. An inverse term in a power of $u$ (eg: $\\frac{2}{u^{3}}$)."
   ]
  },
  {
   "cell_type": "markdown",
   "metadata": {},
   "source": [
    "Exchange your formulae with a classmate. Rearrange each one to make $u$ the subject."
   ]
  },
  {
   "cell_type": "markdown",
   "metadata": {
    "collapsed": true,
    "slideshow": {
     "slide_type": "slide"
    }
   },
   "source": [
    "## Recap Task: Which one is which?\n",
    "\n",
    "We have looked at:\n",
    "  \n",
    "a.) Finding a solution to an equation b.) Simplifying an expression c.) Re-arranging a formula.\n",
    "\n",
    "Can you identify which of the calculations is a.), b.) or c.)?\n"
   ]
  },
  {
   "cell_type": "markdown",
   "metadata": {
    "cell_style": "split",
    "slideshow": {
     "slide_type": "-"
    }
   },
   "source": [
    "<p> $$x^{2}-5x+6=0$$ $$(x-2)(x-3)=0$$ $$x=2 , 3$$ <p>"
   ]
  },
  {
   "cell_type": "markdown",
   "metadata": {
    "cell_style": "split"
   },
   "source": [
    "<p> $$3x+7=y$$ $$3x =y-7$$ $$x = \\frac{y-7}{3}$$ <p>"
   ]
  },
  {
   "cell_type": "markdown",
   "metadata": {
    "cell_style": "split"
   },
   "source": [
    "<p> $$x^{2}+7x-8 = (x+8)(x-1)$$ <p>"
   ]
  },
  {
   "cell_type": "markdown",
   "metadata": {
    "cell_style": "split"
   },
   "source": [
    "<p> $$0=2x+6$$ $$-2x=6$$ $$x=\\frac{6}{-2}$$ $$x=-3$$  <p>"
   ]
  },
  {
   "cell_type": "markdown",
   "metadata": {
    "cell_style": "split"
   },
   "source": [
    "<p> $$y=x^{2}-3x+2=(x-2)(x-1)$$ then if $y=0$ $$0=(x-2)(x-1)$$ $$x = 1, 2$$ <p> "
   ]
  },
  {
   "cell_type": "markdown",
   "metadata": {
    "cell_style": "split"
   },
   "source": [
    "<p> $$y=3x^{2}+6$$ then if $y=9$ $$9-6=3x^{2}$$ $$3=3x^{2}$$ $$1=x^{2}$$ $$x= -1, 1$$ <p>"
   ]
  },
  {
   "cell_type": "markdown",
   "metadata": {
    "cell_style": "split"
   },
   "source": [
    "<p> $$\\frac{2}{3x+4}=y$$ $$2=y(3x+4)$$ $$\\frac{2}{y}=3x+4$$ $$\\frac{2}{y}-4=3x$$ $$x= \\frac{2}{3(y-4)}$$ <p>"
   ]
  },
  {
   "cell_type": "markdown",
   "metadata": {
    "slideshow": {
     "slide_type": "slide"
    }
   },
   "source": [
    "## Simultaneous Equations\n",
    "\n",
    "I have two equations $$3x-y=5$$ $$x+y=3$$ \n",
    "\n",
    "For how many values of $x$ and $y$ is *each* one true?\n",
    "\n",
    "For how many values are *both* equations true? How would I work out these values?"
   ]
  },
  {
   "cell_type": "markdown",
   "metadata": {
    "slideshow": {
     "slide_type": "slide"
    }
   },
   "source": [
    "### Can you solve the arithmagon?"
   ]
  },
  {
   "cell_type": "markdown",
   "metadata": {},
   "source": [
    "![Arithmagon](./Arithmagon.jpg)"
   ]
  },
  {
   "cell_type": "markdown",
   "metadata": {
    "slideshow": {
     "slide_type": "skip"
    }
   },
   "source": [
    "Solutions: $a=8, b=6, c=64, d=2, e=12$"
   ]
  },
  {
   "cell_type": "markdown",
   "metadata": {
    "slideshow": {
     "slide_type": "slide"
    }
   },
   "source": [
    "## Linear inequalities"
   ]
  },
  {
   "cell_type": "markdown",
   "metadata": {
    "cell_style": "center"
   },
   "source": [
    "### $x$ is bigger than $7$ and smaller than $2$ less than $a$. \n",
    "\n",
    "Write the statement above as an inequality."
   ]
  },
  {
   "cell_type": "markdown",
   "metadata": {
    "cell_style": "split",
    "slideshow": {
     "slide_type": "-"
    }
   },
   "source": [
    "## Task 6:\n",
    "\n",
    "We know a common approximation for $\\pi$ is $\\frac{22}{7}$. \n",
    "Look at the picture below. Can you find an inequality for $\\pi$ using the image below? \n",
    "Hint: What is the perimeter of a circle and a square?"
   ]
  },
  {
   "cell_type": "markdown",
   "metadata": {
    "cell_style": "split"
   },
   "source": [
    "![Pi1](./Pi1.jpg)"
   ]
  },
  {
   "cell_type": "markdown",
   "metadata": {
    "cell_style": "split",
    "slideshow": {
     "slide_type": "slide"
    }
   },
   "source": [
    "What about if you use the next image?"
   ]
  },
  {
   "cell_type": "markdown",
   "metadata": {
    "cell_style": "split"
   },
   "source": [
    "![Pi3](./Pi3.jpg)"
   ]
  },
  {
   "cell_type": "markdown",
   "metadata": {
    "cell_style": "split"
   },
   "source": [
    "What about this one (a circle in between two 12-sided polygons)?"
   ]
  },
  {
   "cell_type": "markdown",
   "metadata": {
    "cell_style": "split"
   },
   "source": [
    "![Pi4](./Pi4.jpg)"
   ]
  },
  {
   "cell_type": "markdown",
   "metadata": {},
   "source": [
    "# EXTENSION:\n",
    "\n",
    "## Task 7:\n",
    "\n",
    "Suppose that we are told that four numbers $a,b,c,d$ lie between $−5$ and $5$. Suppose also that the numbers are constrained so that:<p> $$ 5 < a+b < 10$$ and $$ -10 < c+d < -5$$<p>\n",
    "What can you deduce about these inequalities: $$??<a+b−c−d<??$$<p>\n",
    "$$??<a−c<??$$<p>\n",
    "$$??<a−c+d−b<??$$<p>\n",
    "$$??<abcd<??$$<p>\n",
    "\n",
    "#### Extension:\n",
    "\n",
    "$$??<\\frac{|a|+|c|}{2}−\\sqrt{|ac|}<??$$\n"
   ]
  },
  {
   "cell_type": "markdown",
   "metadata": {
    "slideshow": {
     "slide_type": "skip"
    }
   },
   "source": [
    "#### SOLUTIONS:\n",
    "\n",
    "$10<a+b-c-d<20$, $0<a-c<10$, $-10<a-c+d-b<10$, $0<abcd<625$ \n",
    "\n",
    "#### Extension: $0<...<\\frac{5}{2}$"
   ]
  }
 ],
 "metadata": {
  "celltoolbar": "Slideshow",
  "kernelspec": {
   "display_name": "Python 3",
   "language": "python",
   "name": "python3"
  },
  "language_info": {
   "codemirror_mode": {
    "name": "ipython",
    "version": 3
   },
   "file_extension": ".py",
   "mimetype": "text/x-python",
   "name": "python",
   "nbconvert_exporter": "python",
   "pygments_lexer": "ipython3",
   "version": "3.5.2"
  }
 },
 "nbformat": 4,
 "nbformat_minor": 2
}
